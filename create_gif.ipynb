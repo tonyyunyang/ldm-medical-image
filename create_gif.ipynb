{
 "cells": [
  {
   "cell_type": "code",
   "execution_count": 1,
   "metadata": {},
   "outputs": [],
   "source": [
    "import os\n",
    "from pdf2image import convert_from_path\n",
    "import imageio\n",
    "import re"
   ]
  },
  {
   "cell_type": "code",
   "execution_count": 2,
   "metadata": {},
   "outputs": [],
   "source": [
    "def natural_sort_key(s):\n",
    "    \"\"\"\n",
    "    Sort strings with numbers in natural order.\n",
    "    So reconstruction_epoch_10.pdf comes after reconstruction_epoch_2.pdf\n",
    "    \"\"\"\n",
    "    return [int(text) if text.isdigit() else text.lower()\n",
    "            for text in re.split(r'(\\d+)', s)]\n",
    "\n",
    "def create_looping_gif_from_pdfs(pdf_dir, output_gif_path, num_files=15, duration=0.5):\n",
    "    \"\"\"\n",
    "    Convert first N PDFs to a looping GIF.\n",
    "    Specifically handles files named 'reconstruction_epoch_X.pdf'\n",
    "    \n",
    "    Args:\n",
    "        pdf_dir (str): Directory containing PDF files\n",
    "        output_gif_path (str): Path where the output GIF will be saved\n",
    "        num_files (int): Number of files to process\n",
    "        duration (float): Duration for each frame in seconds\n",
    "    \"\"\"\n",
    "    # Get list of PDF files in directory matching the pattern\n",
    "    pdf_files = [f for f in os.listdir(pdf_dir) \n",
    "                 if f.startswith('reconstruction_epoch_') and f.endswith('.pdf')]\n",
    "    \n",
    "    # Sort files naturally so numbers are in correct order\n",
    "    pdf_files.sort(key=natural_sort_key)\n",
    "    \n",
    "    if not pdf_files:\n",
    "        raise Exception(\"No matching PDF files found in the specified directory\")\n",
    "    \n",
    "    # Take only the first num_files\n",
    "    pdf_files = pdf_files[:num_files]\n",
    "    \n",
    "    # Create a temporary directory for images\n",
    "    temp_dir = \"temp_images\"\n",
    "    os.makedirs(temp_dir, exist_ok=True)\n",
    "    \n",
    "    images = []\n",
    "    try:\n",
    "        # Convert each PDF to image and add to list\n",
    "        total_files = len(pdf_files)\n",
    "        for i, pdf_file in enumerate(pdf_files):\n",
    "            print(f\"Converting file {i+1}/{total_files}: {pdf_file}\")\n",
    "            # Convert PDF to image\n",
    "            full_path = os.path.join(pdf_dir, pdf_file)\n",
    "            pages = convert_from_path(full_path)\n",
    "            # We'll use only the first page of each PDF\n",
    "            image_path = os.path.join(temp_dir, f\"{pdf_file}.png\")\n",
    "            pages[0].save(image_path, 'PNG')\n",
    "            images.append(imageio.imread(image_path))\n",
    "        \n",
    "        # Create looping GIF\n",
    "        print(\"Creating GIF...\")\n",
    "        # The loop parameter is set to 0 for infinite looping\n",
    "        imageio.mimsave(output_gif_path, images, duration=duration, loop=0)\n",
    "        print(f\"Looping GIF saved to {output_gif_path}\")\n",
    "        \n",
    "    finally:\n",
    "        # Clean up temporary files\n",
    "        if os.path.exists(temp_dir):\n",
    "            for file in os.listdir(temp_dir):\n",
    "                os.remove(os.path.join(temp_dir, file))\n",
    "            os.rmdir(temp_dir)"
   ]
  },
  {
   "cell_type": "code",
   "execution_count": null,
   "metadata": {},
   "outputs": [],
   "source": [
    "pdf_dir = \"test_try/fixed_samples_progress\"\n",
    "output_gif = \"reconstruction_progress_loop.gif\"\n",
    "create_looping_gif_from_pdfs(\n",
    "    pdf_dir=pdf_dir,\n",
    "    output_gif_path=output_gif,\n",
    "    num_files=15,  # Only take first 15 files\n",
    "    duration=0.5   # Half second per frame\n",
    ")"
   ]
  }
 ],
 "metadata": {
  "kernelspec": {
   "display_name": "torch",
   "language": "python",
   "name": "python3"
  },
  "language_info": {
   "codemirror_mode": {
    "name": "ipython",
    "version": 3
   },
   "file_extension": ".py",
   "mimetype": "text/x-python",
   "name": "python",
   "nbconvert_exporter": "python",
   "pygments_lexer": "ipython3",
   "version": "3.11.9"
  }
 },
 "nbformat": 4,
 "nbformat_minor": 2
}
