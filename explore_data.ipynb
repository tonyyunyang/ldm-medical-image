{
 "cells": [
  {
   "cell_type": "code",
   "execution_count": 1,
   "metadata": {},
   "outputs": [],
   "source": [
    "import nibabel as nib\n",
    "import os\n"
   ]
  },
  {
   "cell_type": "code",
   "execution_count": 2,
   "metadata": {},
   "outputs": [
    {
     "name": "stdout",
     "output_type": "stream",
     "text": [
      "File counts:\n",
      "LA_CINE: 360 samples\n",
      "LA_ED: 360 samples\n",
      "LA_ED_gt: 360 samples\n",
      "LA_ES: 360 samples\n",
      "LA_ES_gt: 360 samples\n",
      "SA_CINE: 360 samples\n",
      "SA_ED: 360 samples\n",
      "SA_ED_gt: 360 samples\n",
      "SA_ES: 360 samples\n",
      "SA_ES_gt: 360 samples\n"
     ]
    }
   ],
   "source": [
    "subjects_path = \"MnM2/dataset\"\n",
    "\n",
    "all_subjects = [d for d in os.listdir(subjects_path) if os.path.isdir(os.path.join(subjects_path, d))]\n",
    "\n",
    "sorted_subjects = sorted(all_subjects)\n",
    "\n",
    "file_counts = {}\n",
    "\n",
    "for sub in sorted_subjects:\n",
    "    subject_path = os.path.join(subjects_path, sub)\n",
    "    subject_files = os.listdir(subject_path)\n",
    "    sorted_subject_files = sorted(subject_files)\n",
    "\n",
    "    for file in sorted_subject_files:\n",
    "        # Skip non-NIfTI files\n",
    "        if not file.endswith(('.nii', '.nii.gz')):\n",
    "            continue\n",
    "        # Extract the file type \n",
    "        parts = file.split('_')\n",
    "        file_type = '_'.join(parts[1:-1])  # Exclude the first part\n",
    "        file_type += '_' + parts[-1].split('.')[0]  # Add the last part without extension\n",
    "        \n",
    "        # Update the count for this file type\n",
    "        if file_type in file_counts:\n",
    "            file_counts[file_type] += 1\n",
    "        else:\n",
    "            file_counts[file_type] = 1\n",
    "\n",
    "print(\"File counts:\")\n",
    "for file_type, count in file_counts.items():\n",
    "    print(f\"{file_type}: {count} samples\")\n"
   ]
  }
 ],
 "metadata": {
  "kernelspec": {
   "display_name": "torch",
   "language": "python",
   "name": "python3"
  },
  "language_info": {
   "codemirror_mode": {
    "name": "ipython",
    "version": 3
   },
   "file_extension": ".py",
   "mimetype": "text/x-python",
   "name": "python",
   "nbconvert_exporter": "python",
   "pygments_lexer": "ipython3",
   "version": "3.11.9"
  }
 },
 "nbformat": 4,
 "nbformat_minor": 2
}
